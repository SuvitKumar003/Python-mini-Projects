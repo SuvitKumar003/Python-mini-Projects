{
  "nbformat": 4,
  "nbformat_minor": 0,
  "metadata": {
    "colab": {
      "provenance": [],
      "gpuType": "T4",
      "authorship_tag": "ABX9TyM4ZI5INjK/PJ3AoY/CVptL",
      "include_colab_link": true
    },
    "kernelspec": {
      "name": "python3",
      "display_name": "Python 3"
    },
    "language_info": {
      "name": "python"
    },
    "accelerator": "GPU"
  },
  "cells": [
    {
      "cell_type": "markdown",
      "metadata": {
        "id": "view-in-github",
        "colab_type": "text"
      },
      "source": [
        "<a href=\"https://colab.research.google.com/github/SuvitKumar003/Python-mini-Projects/blob/main/Image_download.ipynb\" target=\"_parent\"><img src=\"https://colab.research.google.com/assets/colab-badge.svg\" alt=\"Open In Colab\"/></a>"
      ]
    },
    {
      "cell_type": "code",
      "execution_count": 4,
      "metadata": {
        "colab": {
          "base_uri": "https://localhost:8080/"
        },
        "id": "HmrXUGemZXhB",
        "outputId": "59f8d3c9-b938-4bf7-bfb2-4db10be72e9c"
      },
      "outputs": [
        {
          "name": "stdout",
          "output_type": "stream",
          "text": [
            " enetr year- 2016\n"
          ]
        }
      ],
      "source": [
        "year=int(input(\" enetr year- \"))"
      ]
    },
    {
      "cell_type": "code",
      "source": [
        "if(((year % 4==0) and (year % 100 !=0))or (year %400 ==0)):\n",
        "  print(\" {0} is a aleap year\".format(year))\n",
        "else:\n",
        "  print(\" it is not a leap year\")"
      ],
      "metadata": {
        "colab": {
          "base_uri": "https://localhost:8080/"
        },
        "id": "MzbNmQmiZp6l",
        "outputId": "83c68afc-83bd-431f-e4d3-1954bef018dd"
      },
      "execution_count": 7,
      "outputs": [
        {
          "output_type": "stream",
          "name": "stdout",
          "text": [
            " 2016 is a aleap year\n"
          ]
        }
      ]
    },
    {
      "cell_type": "code",
      "source": [],
      "metadata": {
        "id": "O1LeVw-paykz"
      },
      "execution_count": null,
      "outputs": []
    }
  ]
}